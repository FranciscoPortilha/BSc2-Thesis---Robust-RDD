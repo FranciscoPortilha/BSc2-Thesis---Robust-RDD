{
 "cells": [
  {
   "cell_type": "markdown",
   "metadata": {},
   "source": [
    "# Imports"
   ]
  },
  {
   "cell_type": "code",
   "execution_count": 82,
   "metadata": {},
   "outputs": [],
   "source": [
    "import rdrobust\n",
    "import numpy as np\n",
    "import pandas as pd\n",
    "import matplotlib.pyplot as plt"
   ]
  },
  {
   "cell_type": "markdown",
   "metadata": {},
   "source": [
    "# Methods"
   ]
  },
  {
   "cell_type": "markdown",
   "metadata": {},
   "source": [
    "Methods for Identification "
   ]
  },
  {
   "cell_type": "code",
   "execution_count": 93,
   "metadata": {},
   "outputs": [],
   "source": [
    "def sign(x):\n",
    "    if x<0:\n",
    "        return -1\n",
    "    else:\n",
    "        return 1\n",
    "\n",
    "def treatment(x):\n",
    "    if x<0:\n",
    "        return 0\n",
    "    else:\n",
    "        return 1\n",
    "\n",
    "def indicator(x):\n",
    "    if np.abs(x)<0.1:\n",
    "        return 1\n",
    "    else:\n",
    "        return 0\n",
    "\n",
    "def genT(X):\n",
    "    T = {}\n",
    "    for i in range(len(X)):\n",
    "        T = np.append(T,treatment(X[i]))\n",
    "    T = np.delete(T,0)\n",
    "    return T\n",
    "            \n"
   ]
  },
  {
   "cell_type": "markdown",
   "metadata": {},
   "source": [
    "Methods for Generation of Outcomes"
   ]
  },
  {
   "cell_type": "markdown",
   "metadata": {},
   "source": [
    "Y(i) from Noak and Rothe 2023 donut RDD paper"
   ]
  },
  {
   "cell_type": "code",
   "execution_count": 84,
   "metadata": {},
   "outputs": [],
   "source": [
    "def mu_noak(L,x):\n",
    "    return sign(x)*np.power(x,2) - L*sign(x)*(np.power(x-0.1*sign(x),2)-np.power(0.1,2)*sign(x))*indicator(x)\n",
    "\n",
    "def genY_noak(L,X,epsilon):\n",
    "    Y = {}\n",
    "    for i in range(len(X)):\n",
    "        Y = np.append(Y,mu_noak(L,X[i]) + epsilon[i])\n",
    "    Y = np.delete(Y,0)\n",
    "    return Y"
   ]
  },
  {
   "cell_type": "markdown",
   "metadata": {},
   "source": [
    "Basic Y(i) just with simple treatment effect"
   ]
  },
  {
   "cell_type": "code",
   "execution_count": 85,
   "metadata": {},
   "outputs": [],
   "source": [
    "def mu_basic(tau,x): \n",
    "    return tau*treatment(x)\n",
    "\n",
    "def genY_basic(tau,X,epsilon):\n",
    "    Y = {}\n",
    "    for i in range(len(X)):\n",
    "        Y = np.append(Y,mu_basic(tau,X[i]) + epsilon[i])\n",
    "    Y = np.delete(Y,0)\n",
    "    return Y"
   ]
  },
  {
   "cell_type": "markdown",
   "metadata": {},
   "source": [
    "Basic linear outcomes plus simple treatment effect"
   ]
  },
  {
   "cell_type": "code",
   "execution_count": 110,
   "metadata": {},
   "outputs": [],
   "source": [
    "def mu_basicLinear(tau,alpha,beta,x): \n",
    "    return alpha + beta*x + tau*treatment(x)\n",
    "\n",
    "def genY_basicLinear(tau,alpha,beta,X,epsilon):\n",
    "    Y = {}\n",
    "    for i in range(len(X)):\n",
    "        Y = np.append(Y,mu_basicLinear(tau,alpha,beta,X[i]) + epsilon[i])\n",
    "    Y = np.delete(Y,0)\n",
    "    return Y"
   ]
  },
  {
   "cell_type": "markdown",
   "metadata": {},
   "source": [
    "# Sample Generation "
   ]
  },
  {
   "cell_type": "markdown",
   "metadata": {},
   "source": [
    "Seed Set-up"
   ]
  },
  {
   "cell_type": "code",
   "execution_count": 86,
   "metadata": {},
   "outputs": [
    {
     "name": "stdout",
     "output_type": "stream",
     "text": [
      "Generator(PCG64)\n"
     ]
    }
   ],
   "source": [
    "sd = np.random.default_rng(seed=42)\n",
    "print(sd)"
   ]
  },
  {
   "cell_type": "markdown",
   "metadata": {},
   "source": [
    "Generation of the R.V.'s"
   ]
  },
  {
   "cell_type": "code",
   "execution_count": 122,
   "metadata": {},
   "outputs": [],
   "source": [
    "def genY(name, X, tau=0, L=0, alpha=0, beta=0):\n",
    "    epsilon = np.random.normal(0,0.5,n)\n",
    "    if name == 'Noak':\n",
    "        Y = genY_noak(L[0],X,epsilon)\n",
    "    elif name == 'Basic':\n",
    "        Y = genY_basic(tau,X,epsilon)\n",
    "    elif name == 'Basic Linear':\n",
    "        Y = genY_basicLinear(tau,alpha,beta,X,epsilon)\n",
    "    else:\n",
    "        return NameError('Type of GDP is not recognised')\n",
    "    return Y\n",
    "\n",
    "\n",
    "def genSample(name, n, tau=0, L=0, alpha=0, beta=0, printPlot=True):\n",
    "    # Generate random variable: running variables (X), outcomes (Y), and treatments (T)\n",
    "    X = np.random.uniform(-1,1,n)\n",
    "    Y = genY(name, X, tau, L, alpha, beta)\n",
    "    T = genT(X)\n",
    "\n",
    "    # Create sample dataframe\n",
    "    sample = pd.DataFrame({'Y': Y,'X': X,'T': T})\n",
    "\n",
    "    # Print plot\n",
    "    if printPlot == True:\n",
    "        plt.scatter(X,Y,s=6)\n",
    "        plt.xlabel('X')\n",
    "        plt.ylabel('$Y_{i}$')"
   ]
  },
  {
   "cell_type": "code",
   "execution_count": 107,
   "metadata": {},
   "outputs": [],
   "source": [
    "n = 1000\n",
    "L = np.array([0,10,20,30,40])\n",
    "tau = 2\n",
    "a = -1\n",
    "b = 1\n",
    "\n"
   ]
  },
  {
   "cell_type": "code",
   "execution_count": 105,
   "metadata": {},
   "outputs": [
    {
     "data": {
      "text/html": [
       "<div>\n",
       "<style scoped>\n",
       "    .dataframe tbody tr th:only-of-type {\n",
       "        vertical-align: middle;\n",
       "    }\n",
       "\n",
       "    .dataframe tbody tr th {\n",
       "        vertical-align: top;\n",
       "    }\n",
       "\n",
       "    .dataframe thead th {\n",
       "        text-align: right;\n",
       "    }\n",
       "</style>\n",
       "<table border=\"1\" class=\"dataframe\">\n",
       "  <thead>\n",
       "    <tr style=\"text-align: right;\">\n",
       "      <th></th>\n",
       "      <th>0</th>\n",
       "      <th>1</th>\n",
       "      <th>2</th>\n",
       "      <th>3</th>\n",
       "      <th>4</th>\n",
       "      <th>5</th>\n",
       "      <th>6</th>\n",
       "      <th>7</th>\n",
       "      <th>8</th>\n",
       "      <th>9</th>\n",
       "      <th>...</th>\n",
       "      <th>990</th>\n",
       "      <th>991</th>\n",
       "      <th>992</th>\n",
       "      <th>993</th>\n",
       "      <th>994</th>\n",
       "      <th>995</th>\n",
       "      <th>996</th>\n",
       "      <th>997</th>\n",
       "      <th>998</th>\n",
       "      <th>999</th>\n",
       "    </tr>\n",
       "  </thead>\n",
       "  <tbody>\n",
       "    <tr>\n",
       "      <th>Y</th>\n",
       "      <td>6.365855</td>\n",
       "      <td>4.33238</td>\n",
       "      <td>0.137705</td>\n",
       "      <td>0.02908</td>\n",
       "      <td>0.327317</td>\n",
       "      <td>0.097077</td>\n",
       "      <td>0.116512</td>\n",
       "      <td>5.177843</td>\n",
       "      <td>3.126485</td>\n",
       "      <td>3.095434</td>\n",
       "      <td>...</td>\n",
       "      <td>0.311171</td>\n",
       "      <td>0.000128</td>\n",
       "      <td>4.481234</td>\n",
       "      <td>0.935321</td>\n",
       "      <td>5.721589</td>\n",
       "      <td>0.013355</td>\n",
       "      <td>0.210709</td>\n",
       "      <td>1.840639</td>\n",
       "      <td>2.721678</td>\n",
       "      <td>0.105781</td>\n",
       "    </tr>\n",
       "    <tr>\n",
       "      <th>X</th>\n",
       "      <td>1.552225</td>\n",
       "      <td>1.557594</td>\n",
       "      <td>-0.06636</td>\n",
       "      <td>-0.143955</td>\n",
       "      <td>-0.510893</td>\n",
       "      <td>-0.172776</td>\n",
       "      <td>-0.024826</td>\n",
       "      <td>0.666299</td>\n",
       "      <td>1.760176</td>\n",
       "      <td>0.088568</td>\n",
       "      <td>...</td>\n",
       "      <td>0.141201</td>\n",
       "      <td>0.002062</td>\n",
       "      <td>0.528513</td>\n",
       "      <td>-0.806</td>\n",
       "      <td>0.965476</td>\n",
       "      <td>-0.022361</td>\n",
       "      <td>0.097459</td>\n",
       "      <td>0.153053</td>\n",
       "      <td>1.228289</td>\n",
       "      <td>0.283379</td>\n",
       "    </tr>\n",
       "    <tr>\n",
       "      <th>T</th>\n",
       "      <td>2.523065</td>\n",
       "      <td>2.081437</td>\n",
       "      <td>0.0</td>\n",
       "      <td>0.0</td>\n",
       "      <td>0.0</td>\n",
       "      <td>0.0</td>\n",
       "      <td>0.0</td>\n",
       "      <td>2.275487</td>\n",
       "      <td>1.768187</td>\n",
       "      <td>1.759385</td>\n",
       "      <td>...</td>\n",
       "      <td>-0.0</td>\n",
       "      <td>-0.0</td>\n",
       "      <td>2.116892</td>\n",
       "      <td>0.0</td>\n",
       "      <td>2.391984</td>\n",
       "      <td>0.0</td>\n",
       "      <td>-0.0</td>\n",
       "      <td>1.356702</td>\n",
       "      <td>1.649751</td>\n",
       "      <td>-0.0</td>\n",
       "    </tr>\n",
       "  </tbody>\n",
       "</table>\n",
       "<p>3 rows × 1000 columns</p>\n",
       "</div>"
      ],
      "text/plain": [
       "        0         1         2         3         4         5         6    \\\n",
       "Y  6.365855   4.33238  0.137705   0.02908  0.327317  0.097077  0.116512   \n",
       "X  1.552225  1.557594  -0.06636 -0.143955 -0.510893 -0.172776 -0.024826   \n",
       "T  2.523065  2.081437       0.0       0.0       0.0       0.0       0.0   \n",
       "\n",
       "        7         8         9    ...       990       991       992       993  \\\n",
       "Y  5.177843  3.126485  3.095434  ...  0.311171  0.000128  4.481234  0.935321   \n",
       "X  0.666299  1.760176  0.088568  ...  0.141201  0.002062  0.528513    -0.806   \n",
       "T  2.275487  1.768187  1.759385  ...      -0.0      -0.0  2.116892       0.0   \n",
       "\n",
       "        994       995       996       997       998       999  \n",
       "Y  5.721589  0.013355  0.210709  1.840639  2.721678  0.105781  \n",
       "X  0.965476 -0.022361  0.097459  0.153053  1.228289  0.283379  \n",
       "T  2.391984       0.0      -0.0  1.356702  1.649751      -0.0  \n",
       "\n",
       "[3 rows x 1000 columns]"
      ]
     },
     "execution_count": 105,
     "metadata": {},
     "output_type": "execute_result"
    }
   ],
   "source": [
    "LATE = sample.Y*sample.T\n",
    "LATE"
   ]
  },
  {
   "cell_type": "code",
   "execution_count": null,
   "metadata": {},
   "outputs": [],
   "source": []
  },
  {
   "cell_type": "code",
   "execution_count": null,
   "metadata": {},
   "outputs": [],
   "source": []
  }
 ],
 "metadata": {
  "kernelspec": {
   "display_name": "Python 3",
   "language": "python",
   "name": "python3"
  },
  "language_info": {
   "codemirror_mode": {
    "name": "ipython",
    "version": 3
   },
   "file_extension": ".py",
   "mimetype": "text/x-python",
   "name": "python",
   "nbconvert_exporter": "python",
   "pygments_lexer": "ipython3",
   "version": "3.12.2"
  }
 },
 "nbformat": 4,
 "nbformat_minor": 2
}
