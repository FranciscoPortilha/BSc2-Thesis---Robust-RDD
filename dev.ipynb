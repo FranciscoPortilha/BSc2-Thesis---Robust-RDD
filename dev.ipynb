{
 "cells": [
  {
   "cell_type": "markdown",
   "metadata": {},
   "source": [
    "# Imports"
   ]
  },
  {
   "cell_type": "code",
   "execution_count": 1,
   "metadata": {},
   "outputs": [],
   "source": [
    "import numpy as np\n",
    "import pandas as pd\n",
    "import matplotlib.pyplot as plt\n",
    "from rdrobust import rdplot\n",
    "from rdrobust import rdrobust\n",
    "from plotnine import *"
   ]
  },
  {
   "cell_type": "markdown",
   "metadata": {},
   "source": [
    "# Methods"
   ]
  },
  {
   "cell_type": "markdown",
   "metadata": {},
   "source": [
    "Methods for Identification "
   ]
  },
  {
   "cell_type": "code",
   "execution_count": 2,
   "metadata": {},
   "outputs": [],
   "source": [
    "def sign(x):\n",
    "    \"\"\"\n",
    "    This function computes the sign of the given observation.\n",
    "\n",
    "    Parameters\n",
    "    ----------\n",
    "    x : int\n",
    "        The observation to compute the sign.\n",
    "\n",
    "    Returns\n",
    "    -------\n",
    "    sign: int \n",
    "        Returns -1 if x is negative and 1 if nonnegative.\n",
    "    \"\"\"\n",
    "    if x<0:\n",
    "        return -1\n",
    "    else:\n",
    "        return 1\n",
    "\n",
    "def treatment(x):\n",
    "    \"\"\"\n",
    "    This function computes if an observation has received treatment.\n",
    "\n",
    "    Parameters\n",
    "    ----------\n",
    "    x : int\n",
    "        The observation to compute the treatment variable.\n",
    "\n",
    "    Returns\n",
    "    -------\n",
    "    treatment: int \n",
    "        Returns 0 if observation x does not receive treatment and 1 if it does receive treatment.\n",
    "    \"\"\"\n",
    "    if x<0:\n",
    "        return 0\n",
    "    else:\n",
    "        return 1\n",
    "\n",
    "def indicator(x):\n",
    "    \"\"\"\n",
    "    This indicator function computes if an observation is within a distance of the threshold.\n",
    "\n",
    "    Parameters\n",
    "    ----------\n",
    "    x : int\n",
    "        The observation to compute the indicator value.\n",
    "\n",
    "    Returns\n",
    "    -------\n",
    "    treatment: int \n",
    "        Returns 1 if observation x is within the distance and 0 if it is not.\n",
    "    \"\"\"\n",
    "    if np.abs(x)<0.1:\n",
    "        return 1\n",
    "    else:\n",
    "        return 0\n",
    "\n",
    "\n",
    "def genT(X):\n",
    "    \"\"\"\n",
    "    This function creates an array of treatment variables for a sample of observations.\n",
    "\n",
    "    Parameters\n",
    "    ----------\n",
    "    X : arrray[int]\n",
    "        The sample of observation to compute the treatment values for.\n",
    "\n",
    "    Returns\n",
    "    -------\n",
    "    T: array[int]\n",
    "        Returns an array with 1's and 0's for each observation depending on wether that observation received treatment.\n",
    "    \"\"\"\n",
    "    T = {}\n",
    "    for i in range(len(X)):\n",
    "        T = np.append(T,treatment(X[i]))\n",
    "    T = np.delete(T,0)\n",
    "    return T\n",
    "            \n"
   ]
  },
  {
   "cell_type": "markdown",
   "metadata": {},
   "source": [
    "Methods for Generation of Outcomes: $Y_{i} = \\mu(X_{i}) + \\varepsilon_i$"
   ]
  },
  {
   "cell_type": "markdown",
   "metadata": {},
   "source": [
    "$Y_{i}$ from Noak and Rothe 2023 donut RDD paper: \n",
    "$\\newline \\mu_N(x)=sign(x)*x^2-L*sign(x)((x-\\delta*sign(x))^2-\\delta^2*sign(x))*\\boldsymbol{1}\\{|x|<\\delta\\}$"
   ]
  },
  {
   "cell_type": "code",
   "execution_count": 3,
   "metadata": {},
   "outputs": [],
   "source": [
    "def mu_noak(L,x):\n",
    "    \"\"\"\n",
    "    This function generates the non-random part of outcome function with the DGP used by Noack and Rothe (NR) (2023).\n",
    "\n",
    "    Parameters\n",
    "    ----------\n",
    "    L : int\n",
    "        The parameter used by NR to define the level of misspecification L={0,10,20,30,40}.\n",
    "    x : int\n",
    "        The observation to compute the non-random outcome value for.\n",
    "\n",
    "    Returns\n",
    "    -------\n",
    "    mu: int\n",
    "        Returns the non-random part of the outcome value for that observation.\n",
    "    \"\"\"\n",
    "    return sign(x)*np.power(x,2) - L*sign(x)*(np.power(x-0.1*sign(x),2)-np.power(0.1,2)*sign(x))*indicator(x)\n",
    "\n",
    "def genY_noak(L,X,epsilon):\n",
    "    \"\"\"\n",
    "    This function generates a sample of outcomes (Y_i's) with the DGP used by Noack and Rothe (NR) (2023).\n",
    "\n",
    "    Parameters\n",
    "    ----------\n",
    "    L : int\n",
    "        The parameter used by NR to define the level of misspecification L={0,10,20,30,40}.\n",
    "    X : arrray[int]\n",
    "        The sample of observation to compute the outcome values for.\n",
    "    epsilon : arrray[int]\n",
    "        The vector of random errors.\n",
    "\n",
    "    Returns\n",
    "    -------\n",
    "    Y: arrray[int]\n",
    "        Returns a vector with the outcome values.\n",
    "    \"\"\"\n",
    "    Y = {}\n",
    "    for i in range(len(X)):\n",
    "        Y = np.append(Y,mu_noak(L,X[i]) + epsilon[i])\n",
    "    Y = np.delete(Y,0)\n",
    "    return Y"
   ]
  },
  {
   "cell_type": "markdown",
   "metadata": {},
   "source": [
    "Basic linear outcomes ($Y_{i}$) plus simple treatment effect: $\\quad \\mu_{BL}(x)= \\alpha + \\beta x + \\tau t$"
   ]
  },
  {
   "cell_type": "code",
   "execution_count": 5,
   "metadata": {},
   "outputs": [],
   "source": [
    "def mu_basicLinear(tau,alpha,beta,x): \n",
    "    \"\"\"\n",
    "    This function generates the non-random part of the outcome function with a basic linear potential outcomes framework DGP.\n",
    "\n",
    "    Parameters\n",
    "    ----------\n",
    "    tau : int \n",
    "        The size of the treatment effect.\n",
    "    alpha: int\n",
    "        The intercept parameter of the equation.\n",
    "    beta: int\n",
    "        The slope parameter of the equation.\n",
    "    x : int\n",
    "        The observation to compute the non-random outcome value for.\n",
    "\n",
    "    Returns\n",
    "    -------\n",
    "    mu: int\n",
    "        Returns the non-random part the outcome value.\n",
    "    \"\"\"\n",
    "    return alpha + beta*x + tau*treatment(x)\n",
    "\n",
    "def genY_basicLinear(tau,alpha,beta,X,epsilon):\n",
    "    \"\"\"\n",
    "    This function generates a sample of outcomes (Y_i's) with a basic linear potential outcomes framework DGP.\n",
    "\n",
    "    Parameters\n",
    "    ----------\n",
    "    tau : int \n",
    "        The size of the treatment effect.\n",
    "    alpha: int\n",
    "        The intercept parameter of the equation.\n",
    "    beta: int\n",
    "        The slope parameter of the equation.\n",
    "    X : arrray[int]\n",
    "        The sample of observation to compute the outcome values for.\n",
    "    epsilon : arrray[int]\n",
    "        The vector of random errors.\n",
    "\n",
    "    Returns\n",
    "    -------\n",
    "    Y: arrray[int]\n",
    "        Returns a vector with the outcome values.\n",
    "    \"\"\"\n",
    "    Y = {}\n",
    "    for i in range(len(X)):\n",
    "        Y = np.append(Y,mu_basicLinear(tau,alpha,beta,X[i]) + epsilon[i])\n",
    "    Y = np.delete(Y,0)\n",
    "    return Y"
   ]
  },
  {
   "cell_type": "markdown",
   "metadata": {},
   "source": [
    "# Sample Generation "
   ]
  },
  {
   "cell_type": "markdown",
   "metadata": {},
   "source": [
    "Seed Set-up"
   ]
  },
  {
   "cell_type": "code",
   "execution_count": 6,
   "metadata": {},
   "outputs": [
    {
     "name": "stdout",
     "output_type": "stream",
     "text": [
      "Generator(PCG64)\n"
     ]
    }
   ],
   "source": [
    "sd = np.random.default_rng(seed=42)\n",
    "print(sd)"
   ]
  },
  {
   "cell_type": "markdown",
   "metadata": {},
   "source": [
    "Generation of the Outcomes ($Y_{i}$) given the different DGP's"
   ]
  },
  {
   "cell_type": "code",
   "execution_count": 7,
   "metadata": {},
   "outputs": [],
   "source": [
    "def genY(name, X, tau=0, L=0, alpha=0, beta=0):\n",
    "    \"\"\"\n",
    "    This function generates a sample of observations from the given DGP.\n",
    "\n",
    "    Parameters\n",
    "    ----------\n",
    "    name: string\n",
    "        The name of the DGP to use.\n",
    "    X : arrray[int]\n",
    "        The sample of observation to compute the outcome values for.\n",
    "    tau : int, Default value: 0\n",
    "        The size of the treatment effect. For basic and basic linear model.\n",
    "    L : int, Default value: 0\n",
    "        The parameter used by NR to define the level of misspecification L={0,10,20,30,40}. For the Noack and Rothe model.\n",
    "    alpha: int, Default value: 0\n",
    "        The intercept parameter of the equation. For basic linear model.\n",
    "    beta: int, Default value: 0\n",
    "        The slope parameter of the equation. For basic linear model.\n",
    "\n",
    "    Returns\n",
    "    -------\n",
    "    Y: arrray[int]\n",
    "        Returns a vector with the outcome values.\n",
    "    \"\"\"\n",
    "    epsilon = np.random.normal(0,0.5,len(X))\n",
    "    if name == 'Noack':\n",
    "        Y = genY_noak(L,X,epsilon)\n",
    "    elif name == 'Basic':\n",
    "        Y = genY_basic(tau,X,epsilon)\n",
    "    elif name == 'Basic Linear':\n",
    "        Y = genY_basicLinear(tau,alpha,beta,X,epsilon)\n",
    "    else:\n",
    "        return NameError('Type of GDP is not recognised')\n",
    "    return Y"
   ]
  },
  {
   "cell_type": "markdown",
   "metadata": {},
   "source": [
    "Generation os the Sample $X_i$'s and $Y_i$'s"
   ]
  },
  {
   "cell_type": "code",
   "execution_count": 8,
   "metadata": {},
   "outputs": [],
   "source": [
    "\n",
    "def genSample(name, n, tau=0, L=0, alpha=0, beta=0, printPlot=True):\n",
    "    \"\"\"\n",
    "    Generate a sample for RDD analysis: running variables (X), outcomes (Y), and treatments (T)\n",
    "\n",
    "    Parameters\n",
    "    ----------\n",
    "    name: string, Options: 'Noak', 'Basic', 'Basic Linear'\n",
    "        The name of the DGP to use to generate the sample.\n",
    "    n: int\n",
    "        The size of the sample.\n",
    "    tau : int, Default value: 0\n",
    "        The size of the treatment effect. For basic and basic linear model.\n",
    "    L : int, Default value: 0\n",
    "        The parameter used by NR to define the level of misspecification L={0,10,20,30,40}. For the Noack and Rothe model.\n",
    "    alpha: int, Default value: 0\n",
    "        The intercept parameter of the equation. For basic linear model.\n",
    "    beta: int, Default value: 0\n",
    "        The slope parameter of the equation. For basic linear model.\n",
    "    printPlot: boolean, Default value: False\n",
    "        Defines if a plot is printed with the sample.\n",
    "\n",
    "    Returns\n",
    "    -------\n",
    "    sample: DataFrame\n",
    "        A dataframe object with the geneated Y (outcomes) and X (running variables) and given T (treatment variables)\n",
    "    \"\"\"\n",
    "    X = np.random.uniform(-1,1,n)\n",
    "    Y = genY(name, X, tau, L, alpha, beta)\n",
    "    T = genT(X)\n",
    "\n",
    "    # Create sample dataframe\n",
    "    sample = pd.DataFrame({'Y': Y,'X': X,'T': T})\n",
    "    sample.Y = sample.Y.astype(float)\n",
    "\n",
    "    # Print plot\n",
    "    if printPlot == True:\n",
    "        plt.scatter(X,Y,s=6)\n",
    "        plt.xlabel('$X_i$')\n",
    "        plt.ylabel('$Y_i$')\n",
    "        \n",
    "    return sample"
   ]
  },
  {
   "cell_type": "markdown",
   "metadata": {},
   "source": [
    "Test Generate Sample Command"
   ]
  },
  {
   "cell_type": "code",
   "execution_count": 9,
   "metadata": {},
   "outputs": [
    {
     "data": {
      "image/png": "[encoded data removed]",
      "text/plain": [
       "<Figure size 640x480 with 1 Axes>"
      ]
     },
     "metadata": {},
     "output_type": "display_data"
    }
   ],
   "source": [
    "# Options are: 'Noak', 'Basic', 'Basic Linear'\n",
    "sample = genSample('Basic',1000,2,printPlot=True)\n",
    "#sample.to_csv('sample.csv')"
   ]
  },
  {
   "cell_type": "code",
   "execution_count": 10,
   "metadata": {},
   "outputs": [
    {
     "name": "stdout",
     "output_type": "stream",
     "text": [
      "Call: rdrobust\n",
      "Number of Observations:                  1000\n",
      "Polynomial Order Est. (p):                  1\n",
      "Polynomial Order Bias (q):                  2\n",
      "Kernel:                            Triangular\n",
      "Bandwidth Selection:                    mserd\n",
      "Var-Cov Estimator:                         NN\n",
      "\n",
      "                                Left      Right\n",
      "------------------------------------------------\n",
      "Number of Observations           497        503\n",
      "Number of Unique Obs.            497        503\n",
      "Number of Effective Obs.         212        201\n",
      "Bandwidth Estimation            0.39       0.39\n",
      "Bandwidth Bias                 0.602      0.602\n",
      "rho (h/b)                      0.647      0.647\n",
      "\n",
      "Method             Coef.     S.E.   t-stat    P>|t|       95% CI      \n",
      "-------------------------------------------------------------------------\n",
      "Conventional        1.96    0.128   15.367   2.719e-53       [1.71, 2.21]\n",
      "Robust                 -        -   12.876   6.106e-38     [1.681, 2.284]\n"
     ]
    },
    {
     "data": {
      "text/plain": []
     },
     "execution_count": 10,
     "metadata": {},
     "output_type": "execute_result"
    }
   ],
   "source": [
    "rdrobust(sample.Y,sample.X,p=1)"
   ]
  },
  {
   "cell_type": "markdown",
   "metadata": {},
   "source": [
    "# Simulation of Treatment Effects Estimation"
   ]
  },
  {
   "cell_type": "code",
   "execution_count": 11,
   "metadata": {},
   "outputs": [
    {
     "name": "stderr",
     "output_type": "stream",
     "text": [
      "c:\\Users\\Francisco\\AppData\\Local\\Programs\\Python\\Python312\\Lib\\site-packages\\rdrobust\\rdplot.py:743: FutureWarning: Using print(plot) to draw and show the plot figure is deprecated and will be removed in a future version. Use plot.show().\n"
     ]
    },
    {
     "data": {
      "image/png": "[encoded data removed]"
     },
     "metadata": {
      "image/png": {
       "height": 480,
       "width": 640
      }
     },
     "output_type": "display_data"
    },
    {
     "name": "stdout",
     "output_type": "stream",
     "text": [
      "\n",
      "Call: rdplot\n",
      "Number of Observations:                  1000\n",
      "Kernel:                               Uniform\n",
      "Polynomial Order Est. (p):                  1\n",
      "\n",
      "                                Left      Right\n",
      "------------------------------------------------\n",
      "Number of Observations           497        503\n",
      "Number of Effective Obs          497        503\n",
      "Bandwith poly. fit (h)         0.999        1.0\n",
      "Number of bins scale               1          1\n",
      "Bins Selected                     18         21\n",
      "Average Bin Length             0.056      0.048\n",
      "Median Bin Length              0.056      0.048\n",
      "IMSE-optimal bins                4.0        2.0\n",
      "Mimicking Variance bins         18.0       21.0\n",
      "\n",
      "Relative to IMSE-optimal:\n",
      "Implied scale                    4.5       10.5\n",
      "WIMSE variance weight          0.011      0.001\n",
      "WIMSE bias weight              0.989      0.999\n"
     ]
    },
    {
     "data": {
      "text/plain": []
     },
     "execution_count": 11,
     "metadata": {},
     "output_type": "execute_result"
    }
   ],
   "source": [
    "rdplot(sample.Y,sample.X,p=1)"
   ]
  },
  {
   "cell_type": "code",
   "execution_count": 12,
   "metadata": {},
   "outputs": [],
   "source": [
    "n = 1000\n",
    "L = np.array([0,10,20,30,40])\n",
    "tau = 2\n",
    "a = -1\n",
    "b = 1"
   ]
  },
  {
   "cell_type": "code",
   "execution_count": 13,
   "metadata": {},
   "outputs": [],
   "source": [
    "def simulation(name,n,r,tau=0, L=0, alpha=0, beta=0):\n",
    "    \"\"\"\n",
    "    Run simulation analysis for RDD: Generates a sample r times and returns the results of each sample\n",
    "    Parameters\n",
    "    ----------\n",
    "    name: string, Options: 'Noak', 'Basic', 'Basic Linear'\n",
    "        The name of the DGP to use to generate the sample.\n",
    "    n: int\n",
    "        The size of the sample.\n",
    "    r: int \n",
    "        The number of replications.\n",
    "    tau : int , Default value: 0\n",
    "        The size of the treatment effect. For basic and basic linear model.\n",
    "    L : int, Default value: 0\n",
    "        The parameter used by NR to define the level of misspecification L={0,10,20,30,40}. For the Noack and Rothe model.\n",
    "    alpha: int, Default value: 0\n",
    "        The intercept parameter of the equation. For basic linear model.\n",
    "    beta: int, Default value: 0\n",
    "        The slope parameter of the equation. For basic linear model.\n",
    "   \n",
    "    \n",
    "    Returns\n",
    "    -------\n",
    "    sample: DataFrame\n",
    "        A dataframe object with the results from the simulation. \n",
    "        For each smaple it returns the estimated Treatment Effects (TE), bandwidth (H).\n",
    "    \"\"\" \n",
    "    TE = {}\n",
    "    H_left = {}\n",
    "    H_right ={}\n",
    "    for i in range(r):\n",
    "        sample = genSample(name,n,tau, L, alpha, beta, printPlot=False)\n",
    "        res = rdrobust(sample.Y,sample.X)\n",
    "        TE = np.append(TE, res.coef.iloc[0])\n",
    "        H_left = np.append(H_left,res.bws.left.iloc[0])\n",
    "        H_right = np.append(H_right,res.bws.right.iloc[0])\n",
    "    TE = np.delete(TE,0)\n",
    "    H_left = np.delete(H_left,0)\n",
    "    H_right = np.delete(H_right,0)\n",
    "    simulationResults = pd.DataFrame({'TE':TE,'H_left':H_left,'H_right':H_right})\n",
    "    return simulationResults"
   ]
  },
  {
   "cell_type": "code",
   "execution_count": 19,
   "metadata": {},
   "outputs": [],
   "source": [
    "simulationResults = simulation('Basic',1000,1000,2)"
   ]
  },
  {
   "cell_type": "code",
   "execution_count": null,
   "metadata": {},
   "outputs": [
    {
     "data": {
      "text/plain": [
       "-0.5474825408193285"
      ]
     },
     "execution_count": 97,
     "metadata": {},
     "output_type": "execute_result"
    }
   ],
   "source": [
    "np.mean(simulationResults.TE)"
   ]
  },
  {
   "cell_type": "code",
   "execution_count": null,
   "metadata": {},
   "outputs": [
    {
     "data": {
      "text/plain": [
       "0.47942690863635323"
      ]
     },
     "execution_count": 86,
     "metadata": {},
     "output_type": "execute_result"
    }
   ],
   "source": [
    "np.std(simulationResults.TE)"
   ]
  },
  {
   "cell_type": "code",
   "execution_count": null,
   "metadata": {},
   "outputs": [
    {
     "data": {
      "image/png": "[encoded data removed]",
      "text/plain": [
       "<Figure size 640x480 with 1 Axes>"
      ]
     },
     "metadata": {},
     "output_type": "display_data"
    }
   ],
   "source": [
    "hist = plt.hist(simulationResults.TE, bins=60)"
   ]
  }
 ],
 "metadata": {
  "kernelspec": {
   "display_name": "Python 3",
   "language": "python",
   "name": "python3"
  },
  "language_info": {
   "codemirror_mode": {
    "name": "ipython",
    "version": 3
   },
   "file_extension": ".py",
   "mimetype": "text/x-python",
   "name": "python",
   "nbconvert_exporter": "python",
   "pygments_lexer": "ipython3",
   "version": "3.12.2"
  }
 },
 "nbformat": 4,
 "nbformat_minor": 2
}
