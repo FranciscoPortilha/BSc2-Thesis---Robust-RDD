{
 "cells": [
  {
   "cell_type": "markdown",
   "metadata": {},
   "source": [
    "# Imports"
   ]
  },
  {
   "cell_type": "code",
   "execution_count": 66,
   "metadata": {},
   "outputs": [],
   "source": [
    "import rdrobust\n",
    "import numpy as np\n",
    "import pandas as pd\n",
    "import matplotlib.pyplot as plt"
   ]
  },
  {
   "cell_type": "markdown",
   "metadata": {},
   "source": [
    "# Methods"
   ]
  },
  {
   "cell_type": "markdown",
   "metadata": {},
   "source": [
    "Methods for Identification "
   ]
  },
  {
   "cell_type": "code",
   "execution_count": 67,
   "metadata": {},
   "outputs": [],
   "source": [
    "def sign(x):\n",
    "    \"\"\"\n",
    "    This function computes the sign of the given observation.\n",
    "\n",
    "    Parameters\n",
    "    ----------\n",
    "    x : int\n",
    "        The observation to compute the sign.\n",
    "\n",
    "    Returns\n",
    "    -------\n",
    "    sign: int \n",
    "        Returns -1 if x is negative and 1 if nonnegative.\n",
    "    \"\"\"\n",
    "    if x<0:\n",
    "        return -1\n",
    "    else:\n",
    "        return 1\n",
    "\n",
    "def treatment(x):\n",
    "    \"\"\"\n",
    "    This function computes if an observation has received treatment.\n",
    "\n",
    "    Parameters\n",
    "    ----------\n",
    "    x : int\n",
    "        The observation to compute the treatment variable.\n",
    "\n",
    "    Returns\n",
    "    -------\n",
    "    treatment: int \n",
    "        Returns 0 if observation x does not receive treatment and 1 if it does receive treatment.\n",
    "    \"\"\"\n",
    "    if x<0:\n",
    "        return 0\n",
    "    else:\n",
    "        return 1\n",
    "\n",
    "def indicator(x):\n",
    "    \"\"\"\n",
    "    This indicator function computes if an observation is within a distance of the threshold.\n",
    "\n",
    "    Parameters\n",
    "    ----------\n",
    "    x : int\n",
    "        The observation to compute the indicator value.\n",
    "\n",
    "    Returns\n",
    "    -------\n",
    "    treatment: int \n",
    "        Returns 1 if observation x is within the distance and 0 if it is not.\n",
    "    \"\"\"\n",
    "    if np.abs(x)<0.1:\n",
    "        return 1\n",
    "    else:\n",
    "        return 0\n",
    "\n",
    "\n",
    "def genT(X):\n",
    "    \"\"\"\n",
    "    This function creates an array of treatment variables for a sample of observations.\n",
    "\n",
    "    Parameters\n",
    "    ----------\n",
    "    X : arrray[int]\n",
    "        The sample of observation to compute the treatment values for.\n",
    "\n",
    "    Returns\n",
    "    -------\n",
    "    T: array[int]\n",
    "        Returns an array with 1's and 0's for each observation depending on wether that observation received treatment.\n",
    "    \"\"\"\n",
    "    T = {}\n",
    "    for i in range(len(X)):\n",
    "        T = np.append(T,treatment(X[i]))\n",
    "    T = np.delete(T,0)\n",
    "    return T\n",
    "            \n"
   ]
  },
  {
   "cell_type": "markdown",
   "metadata": {},
   "source": [
    "Methods for Generation of Outcomes: $Y_{i} = \\mu(X_{i}) + \\varepsilon_i$"
   ]
  },
  {
   "cell_type": "markdown",
   "metadata": {},
   "source": [
    "$Y_{i}$ from Noak and Rothe 2023 donut RDD paper: \n",
    "$\\newline \\mu_N(x)=sign(x)*x^2-L*sign(x)((x-\\delta*sign(x))^2-\\delta^2*sign(x))*\\boldsymbol{1}\\{|x|<\\delta\\}$"
   ]
  },
  {
   "cell_type": "code",
   "execution_count": 68,
   "metadata": {},
   "outputs": [],
   "source": [
    "def mu_noak(L,x):\n",
    "    \"\"\"\n",
    "    This function generates the non-random part of outcome function with the DGP used by Noack and Rothe (NR) (2023).\n",
    "\n",
    "    Parameters\n",
    "    ----------\n",
    "    L : int\n",
    "        The parameter used by NR to define the level of misspecification L={0,10,20,30,40}.\n",
    "    x : int\n",
    "        The observation to compute the non-random outcome value for.\n",
    "\n",
    "    Returns\n",
    "    -------\n",
    "    mu: int\n",
    "        Returns the non-random part of the outcome value for that observation.\n",
    "    \"\"\"\n",
    "    return sign(x)*np.power(x,2) - L*sign(x)*(np.power(x-0.1*sign(x),2)-np.power(0.1,2)*sign(x))*indicator(x)\n",
    "\n",
    "def genY_noak(L,X,epsilon):\n",
    "    \"\"\"\n",
    "    This function generates a sample of outcomes (Y_i's) with the DGP used by Noack and Rothe (NR) (2023).\n",
    "\n",
    "    Parameters\n",
    "    ----------\n",
    "    L : int\n",
    "        The parameter used by NR to define the level of misspecification L={0,10,20,30,40}.\n",
    "    X : arrray[int]\n",
    "        The sample of observation to compute the outcome values for.\n",
    "    epsilon : arrray[int]\n",
    "        The vector of random errors.\n",
    "\n",
    "    Returns\n",
    "    -------\n",
    "    Y: arrray[int]\n",
    "        Returns a vector with the outcome values.\n",
    "    \"\"\"\n",
    "    Y = {}\n",
    "    for i in range(len(X)):\n",
    "        Y = np.append(Y,mu_noak(L,X[i]) + epsilon[i])\n",
    "    Y = np.delete(Y,0)\n",
    "    return Y"
   ]
  },
  {
   "cell_type": "markdown",
   "metadata": {},
   "source": [
    "Basic $Y_{i}$ just with simple treatment effect: $\\quad \\mu_{B}(x)= \\tau t$"
   ]
  },
  {
   "cell_type": "code",
   "execution_count": 69,
   "metadata": {},
   "outputs": [],
   "source": [
    "def mu_basic(tau,x): \n",
    "    \"\"\"\n",
    "    This function generates the non-random part of the outcome function with a basic potential outcomes framework DGP.\n",
    "\n",
    "    Parameters\n",
    "    ----------\n",
    "    tau : int \n",
    "        The size of the treatment effect.\n",
    "    x : int\n",
    "        The observation to compute the non-random outcome value for.\n",
    "\n",
    "    Returns\n",
    "    -------\n",
    "    mu: int\n",
    "        Returns the non-random part the outcome value.\n",
    "    \"\"\"\n",
    "    return tau*treatment(x)\n",
    "\n",
    "def genY_basic(tau,X,epsilon):\n",
    "    \"\"\"\n",
    "    This function generates a sample of outcomes (Y_i's) with a basic potential outcomes framework DGP.\n",
    "\n",
    "    Parameters\n",
    "    ----------\n",
    "    tau : int \n",
    "        The size of the treatment effect.\n",
    "    X : arrray[int]\n",
    "        The sample of observation to compute the outcome values for.\n",
    "    epsilon : arrray[int]\n",
    "        The vector of random errors.\n",
    "\n",
    "    Returns\n",
    "    -------\n",
    "    Y: arrray[int]\n",
    "        Returns a vector with the outcome values.\n",
    "    \"\"\"\n",
    "    Y = {}\n",
    "    for i in range(len(X)):\n",
    "        Y = np.append(Y,mu_basic(tau,X[i]) + epsilon[i])\n",
    "    Y = np.delete(Y,0)\n",
    "    return Y"
   ]
  },
  {
   "cell_type": "markdown",
   "metadata": {},
   "source": [
    "Basic linear outcomes ($Y_{i}$) plus simple treatment effect: $\\quad \\mu_{BL}(x)= \\alpha + \\beta x + \\tau t$"
   ]
  },
  {
   "cell_type": "code",
   "execution_count": 70,
   "metadata": {},
   "outputs": [],
   "source": [
    "def mu_basicLinear(tau,alpha,beta,x): \n",
    "    \"\"\"\n",
    "    This function generates the non-random part of the outcome function with a basic linear potential outcomes framework DGP.\n",
    "\n",
    "    Parameters\n",
    "    ----------\n",
    "    tau : int \n",
    "        The size of the treatment effect.\n",
    "    alpha: int\n",
    "        The intercept parameter of the equation.\n",
    "    beta: int\n",
    "        The slope parameter of the equation.\n",
    "    x : int\n",
    "        The observation to compute the non-random outcome value for.\n",
    "\n",
    "    Returns\n",
    "    -------\n",
    "    mu: int\n",
    "        Returns the non-random part the outcome value.\n",
    "    \"\"\"\n",
    "    return alpha + beta*x + tau*treatment(x)\n",
    "\n",
    "def genY_basicLinear(tau,alpha,beta,X,epsilon):\n",
    "    \"\"\"\n",
    "    This function generates a sample of outcomes (Y_i's) with a basic linear potential outcomes framework DGP.\n",
    "\n",
    "    Parameters\n",
    "    ----------\n",
    "    tau : int \n",
    "        The size of the treatment effect.\n",
    "    alpha: int\n",
    "        The intercept parameter of the equation.\n",
    "    beta: int\n",
    "        The slope parameter of the equation.\n",
    "    X : arrray[int]\n",
    "        The sample of observation to compute the outcome values for.\n",
    "    epsilon : arrray[int]\n",
    "        The vector of random errors.\n",
    "\n",
    "    Returns\n",
    "    -------\n",
    "    Y: arrray[int]\n",
    "        Returns a vector with the outcome values.\n",
    "    \"\"\"\n",
    "    Y = {}\n",
    "    for i in range(len(X)):\n",
    "        Y = np.append(Y,mu_basicLinear(tau,alpha,beta,X[i]) + epsilon[i])\n",
    "    Y = np.delete(Y,0)\n",
    "    return Y"
   ]
  },
  {
   "cell_type": "markdown",
   "metadata": {},
   "source": [
    "# Sample Generation "
   ]
  },
  {
   "cell_type": "markdown",
   "metadata": {},
   "source": [
    "Seed Set-up"
   ]
  },
  {
   "cell_type": "code",
   "execution_count": 71,
   "metadata": {},
   "outputs": [
    {
     "name": "stdout",
     "output_type": "stream",
     "text": [
      "Generator(PCG64)\n"
     ]
    }
   ],
   "source": [
    "sd = np.random.default_rng(seed=42)\n",
    "print(sd)"
   ]
  },
  {
   "cell_type": "markdown",
   "metadata": {},
   "source": [
    "Generation of the Outcomes ($Y_{i}$) given the different DGP's"
   ]
  },
  {
   "cell_type": "code",
   "execution_count": 72,
   "metadata": {},
   "outputs": [],
   "source": [
    "def genY(name, X, tau=0, L=0, alpha=0, beta=0):\n",
    "    \"\"\"\n",
    "    This function generates a sample of observations from the given DGP\n",
    "\n",
    "    Parameters\n",
    "    ----------\n",
    "    name: string\n",
    "        The name of the DGP to use\n",
    "    X : arrray[int]\n",
    "        The sample of observation to compute the outcome values for.\n",
    "    tau : int \n",
    "        The size of the treatment effect. For basic and basic linear model.\n",
    "    L : int\n",
    "        The parameter used by NR to define the level of misspecification L={0,10,20,30,40}. For the Noack and Rothe model.\n",
    "    alpha: int\n",
    "        The intercept parameter of the equation. For basic linear model.\n",
    "    beta: int\n",
    "        The slope parameter of the equation. For basic linear model.\n",
    "\n",
    "    Returns\n",
    "    -------\n",
    "    Y: arrray[int]\n",
    "        Returns a vector with the outcome values.\n",
    "    \"\"\"\n",
    "    epsilon = np.random.normal(0,0.5,n)\n",
    "    if name == 'Noak':\n",
    "        Y = genY_noak(L,X,epsilon)\n",
    "    elif name == 'Basic':\n",
    "        Y = genY_basic(tau,X,epsilon)\n",
    "    elif name == 'Basic Linear':\n",
    "        Y = genY_basicLinear(tau,alpha,beta,X,epsilon)\n",
    "    else:\n",
    "        return NameError('Type of GDP is not recognised')\n",
    "    return Y"
   ]
  },
  {
   "cell_type": "markdown",
   "metadata": {},
   "source": [
    "Generation os the Sample $X_i$'s and $Y_i$'s"
   ]
  },
  {
   "cell_type": "code",
   "execution_count": 73,
   "metadata": {},
   "outputs": [],
   "source": [
    "\n",
    "def genSample(name, n, tau=0, L=0, alpha=0, beta=0, printPlot=True):\n",
    "    \"\"\"\n",
    "    Generate random variable: running variables (X), outcomes (Y), and treatments (T)\n",
    "\n",
    "    Parameters\n",
    "    ----------\n",
    "    name: string \n",
    "        the name of the DGP to use to generate the sample. \n",
    "        Options are: 'Noak', 'Basic', 'Basic Linear'.\n",
    "    n: int\n",
    "        the size of the sample\n",
    "    tau : int \n",
    "        The size of the treatment effect. For basic and basic linear model.\n",
    "        Default value: 0. \n",
    "    L : int\n",
    "        The parameter used by NR to define the level of misspecification L={0,10,20,30,40}. For the Noack and Rothe model.\n",
    "        Default value: 0. \n",
    "    alpha: int\n",
    "        The intercept parameter of the equation. For basic linear model.\n",
    "        Default value: 0. \n",
    "    beta: int\n",
    "        The slope parameter of the equation. For basic linear model.\n",
    "        Default valu: 0. \n",
    "    printPlot: boolean\n",
    "        Defines if a plot is printed with the sample.\n",
    "        Default value: False.\n",
    "\n",
    "    Returns\n",
    "    -------\n",
    "    sample: DataFrame\n",
    "        A dataframe object with the geneated Y (outcomes) and X (running variables) and given T (treatment variables)\n",
    "    \"\"\"\n",
    "    X = np.random.uniform(-1,1,n)\n",
    "    Y = genY(name, X, tau, L, alpha, beta)\n",
    "    T = genT(X)\n",
    "\n",
    "    # Create sample dataframe\n",
    "    sample = pd.DataFrame({'Y': Y,'X': X,'T': T})\n",
    "\n",
    "    # Print plot\n",
    "    if printPlot == True:\n",
    "        plt.scatter(X,Y,s=6)\n",
    "        plt.xlabel('X')\n",
    "        plt.ylabel('$Y_{i}$')"
   ]
  },
  {
   "cell_type": "code",
   "execution_count": 74,
   "metadata": {},
   "outputs": [],
   "source": [
    "n = 1000\n",
    "L = np.array([0,10,20,30,40])\n",
    "tau = 2\n",
    "a = -1\n",
    "b = 1"
   ]
  },
  {
   "cell_type": "code",
   "execution_count": 75,
   "metadata": {},
   "outputs": [
    {
     "data": {
      "image/png": "[encoded data removed]",
      "text/plain": [
       "<Figure size 640x480 with 1 Axes>"
      ]
     },
     "metadata": {},
     "output_type": "display_data"
    }
   ],
   "source": [
    "# Options are: 'Noak', 'Basic', 'Basic Linear'\n",
    "genSample('Basic Linear',n,2,0,a,b,True)"
   ]
  },
  {
   "cell_type": "markdown",
   "metadata": {},
   "source": [
    "# Treatment Effects"
   ]
  },
  {
   "cell_type": "code",
   "execution_count": 76,
   "metadata": {},
   "outputs": [
    {
     "ename": "NameError",
     "evalue": "name 'sample' is not defined",
     "output_type": "error",
     "traceback": [
      "\u001b[1;31m---------------------------------------------------------------------------\u001b[0m",
      "\u001b[1;31mNameError\u001b[0m                                 Traceback (most recent call last)",
      "Cell \u001b[1;32mIn[76], line 1\u001b[0m\n\u001b[1;32m----> 1\u001b[0m LATE \u001b[38;5;241m=\u001b[39m \u001b[43msample\u001b[49m\u001b[38;5;241m.\u001b[39mY\u001b[38;5;241m*\u001b[39msample\u001b[38;5;241m.\u001b[39mT\n\u001b[0;32m      2\u001b[0m LATE\n",
      "\u001b[1;31mNameError\u001b[0m: name 'sample' is not defined"
     ]
    }
   ],
   "source": [
    "LATE = sample.Y*sample.T\n",
    "LATE"
   ]
  },
  {
   "cell_type": "code",
   "execution_count": null,
   "metadata": {},
   "outputs": [],
   "source": []
  },
  {
   "cell_type": "code",
   "execution_count": null,
   "metadata": {},
   "outputs": [],
   "source": []
  }
 ],
 "metadata": {
  "kernelspec": {
   "display_name": "Python 3",
   "language": "python",
   "name": "python3"
  },
  "language_info": {
   "codemirror_mode": {
    "name": "ipython",
    "version": 3
   },
   "file_extension": ".py",
   "mimetype": "text/x-python",
   "name": "python",
   "nbconvert_exporter": "python",
   "pygments_lexer": "ipython3",
   "version": "3.12.2"
  }
 },
 "nbformat": 4,
 "nbformat_minor": 2
}
